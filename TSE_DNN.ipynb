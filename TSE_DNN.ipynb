{
 "cells": [
  {
   "cell_type": "code",
   "execution_count": 45,
   "metadata": {
    "collapsed": true
   },
   "outputs": [],
   "source": [
    "import tensorflow as tf\n",
    "import numpy as np\n",
    "import pandas as pd\n",
    "import matplotlib.pyplot as plt\n",
    "%matplotlib inline\n",
    "from time import time\n",
    "from sklearn.preprocessing import MinMaxScaler"
   ]
  },
  {
   "cell_type": "markdown",
   "metadata": {},
   "source": [
    "### Raw Data"
   ]
  },
  {
   "cell_type": "markdown",
   "metadata": {},
   "source": [
    "Time period: 2012/08/27 ~ 2018/02/27 (1352 trading days)"
   ]
  },
  {
   "cell_type": "code",
   "execution_count": 46,
   "metadata": {
    "collapsed": false
   },
   "outputs": [
    {
     "data": {
      "text/html": [
       "<div>\n",
       "<table border=\"1\" class=\"dataframe\">\n",
       "  <thead>\n",
       "    <tr style=\"text-align: right;\">\n",
       "      <th></th>\n",
       "      <th>Date</th>\n",
       "      <th>Open</th>\n",
       "      <th>High</th>\n",
       "      <th>Low</th>\n",
       "      <th>Close</th>\n",
       "      <th>Upper</th>\n",
       "      <th>Lower</th>\n",
       "      <th>RSI</th>\n",
       "      <th>TOYC</th>\n",
       "      <th>TOYCChange</th>\n",
       "      <th>...</th>\n",
       "      <th>Thigh</th>\n",
       "      <th>Tlow</th>\n",
       "      <th>Tclose</th>\n",
       "      <th>Tclosechange</th>\n",
       "      <th>TTOYC</th>\n",
       "      <th>TTOYCChange</th>\n",
       "      <th>TYCChange</th>\n",
       "      <th>Tvolume</th>\n",
       "      <th>Tmoney</th>\n",
       "      <th>PE</th>\n",
       "    </tr>\n",
       "  </thead>\n",
       "  <tbody>\n",
       "    <tr>\n",
       "      <th>0</th>\n",
       "      <td>2012/8/27</td>\n",
       "      <td>7504.45</td>\n",
       "      <td>7523.54</td>\n",
       "      <td>7457.75</td>\n",
       "      <td>7468.22</td>\n",
       "      <td>19.09</td>\n",
       "      <td>10.47</td>\n",
       "      <td>0.500900</td>\n",
       "      <td>26.92</td>\n",
       "      <td>0.003600</td>\n",
       "      <td>...</td>\n",
       "      <td>83.5</td>\n",
       "      <td>82.4</td>\n",
       "      <td>83.0</td>\n",
       "      <td>NaN</td>\n",
       "      <td>0.9</td>\n",
       "      <td>0.010976</td>\n",
       "      <td>-0.008464</td>\n",
       "      <td>25735</td>\n",
       "      <td>2135558</td>\n",
       "      <td>16.37</td>\n",
       "    </tr>\n",
       "    <tr>\n",
       "      <th>1</th>\n",
       "      <td>2012/8/28</td>\n",
       "      <td>7440.56</td>\n",
       "      <td>7445.08</td>\n",
       "      <td>7359.83</td>\n",
       "      <td>7361.94</td>\n",
       "      <td>4.52</td>\n",
       "      <td>2.11</td>\n",
       "      <td>0.352353</td>\n",
       "      <td>-27.66</td>\n",
       "      <td>-0.003704</td>\n",
       "      <td>...</td>\n",
       "      <td>83.4</td>\n",
       "      <td>82.0</td>\n",
       "      <td>82.4</td>\n",
       "      <td>-0.007229</td>\n",
       "      <td>-0.7</td>\n",
       "      <td>-0.008434</td>\n",
       "      <td>0.012195</td>\n",
       "      <td>32429</td>\n",
       "      <td>2674091</td>\n",
       "      <td>16.25</td>\n",
       "    </tr>\n",
       "    <tr>\n",
       "      <th>2</th>\n",
       "      <td>2012/8/29</td>\n",
       "      <td>7379.48</td>\n",
       "      <td>7405.30</td>\n",
       "      <td>7368.40</td>\n",
       "      <td>7391.15</td>\n",
       "      <td>14.15</td>\n",
       "      <td>11.08</td>\n",
       "      <td>0.197637</td>\n",
       "      <td>17.54</td>\n",
       "      <td>0.002383</td>\n",
       "      <td>...</td>\n",
       "      <td>83.0</td>\n",
       "      <td>82.1</td>\n",
       "      <td>82.7</td>\n",
       "      <td>0.003641</td>\n",
       "      <td>0.2</td>\n",
       "      <td>0.002427</td>\n",
       "      <td>-0.007200</td>\n",
       "      <td>18468</td>\n",
       "      <td>1527787</td>\n",
       "      <td>15.60</td>\n",
       "    </tr>\n",
       "    <tr>\n",
       "      <th>3</th>\n",
       "      <td>2012/8/30</td>\n",
       "      <td>7372.06</td>\n",
       "      <td>7404.94</td>\n",
       "      <td>7360.10</td>\n",
       "      <td>7371.44</td>\n",
       "      <td>32.88</td>\n",
       "      <td>11.34</td>\n",
       "      <td>0.188303</td>\n",
       "      <td>-19.09</td>\n",
       "      <td>-0.002583</td>\n",
       "      <td>...</td>\n",
       "      <td>83.2</td>\n",
       "      <td>82.3</td>\n",
       "      <td>82.7</td>\n",
       "      <td>0.000000</td>\n",
       "      <td>-0.4</td>\n",
       "      <td>-0.004837</td>\n",
       "      <td>0.003600</td>\n",
       "      <td>46032</td>\n",
       "      <td>3815781</td>\n",
       "      <td>15.60</td>\n",
       "    </tr>\n",
       "    <tr>\n",
       "      <th>4</th>\n",
       "      <td>2012/8/31</td>\n",
       "      <td>7363.25</td>\n",
       "      <td>7406.52</td>\n",
       "      <td>7363.25</td>\n",
       "      <td>7397.06</td>\n",
       "      <td>9.46</td>\n",
       "      <td>0.00</td>\n",
       "      <td>0.251779</td>\n",
       "      <td>-8.19</td>\n",
       "      <td>-0.001111</td>\n",
       "      <td>...</td>\n",
       "      <td>83.3</td>\n",
       "      <td>82.4</td>\n",
       "      <td>83.3</td>\n",
       "      <td>0.007255</td>\n",
       "      <td>-0.3</td>\n",
       "      <td>-0.003628</td>\n",
       "      <td>0.000000</td>\n",
       "      <td>13536</td>\n",
       "      <td>1125345</td>\n",
       "      <td>15.72</td>\n",
       "    </tr>\n",
       "  </tbody>\n",
       "</table>\n",
       "<p>5 rows × 37 columns</p>\n",
       "</div>"
      ],
      "text/plain": [
       "        Date     Open     High      Low    Close  Upper  Lower       RSI  \\\n",
       "0  2012/8/27  7504.45  7523.54  7457.75  7468.22  19.09  10.47  0.500900   \n",
       "1  2012/8/28  7440.56  7445.08  7359.83  7361.94   4.52   2.11  0.352353   \n",
       "2  2012/8/29  7379.48  7405.30  7368.40  7391.15  14.15  11.08  0.197637   \n",
       "3  2012/8/30  7372.06  7404.94  7360.10  7371.44  32.88  11.34  0.188303   \n",
       "4  2012/8/31  7363.25  7406.52  7363.25  7397.06   9.46   0.00  0.251779   \n",
       "\n",
       "    TOYC  TOYCChange  ...    Thigh  Tlow  Tclose  Tclosechange  TTOYC  \\\n",
       "0  26.92    0.003600  ...     83.5  82.4    83.0           NaN    0.9   \n",
       "1 -27.66   -0.003704  ...     83.4  82.0    82.4     -0.007229   -0.7   \n",
       "2  17.54    0.002383  ...     83.0  82.1    82.7      0.003641    0.2   \n",
       "3 -19.09   -0.002583  ...     83.2  82.3    82.7      0.000000   -0.4   \n",
       "4  -8.19   -0.001111  ...     83.3  82.4    83.3      0.007255   -0.3   \n",
       "\n",
       "   TTOYCChange  TYCChange  Tvolume   Tmoney     PE  \n",
       "0     0.010976  -0.008464    25735  2135558  16.37  \n",
       "1    -0.008434   0.012195    32429  2674091  16.25  \n",
       "2     0.002427  -0.007200    18468  1527787  15.60  \n",
       "3    -0.004837   0.003600    46032  3815781  15.60  \n",
       "4    -0.003628   0.000000    13536  1125345  15.72  \n",
       "\n",
       "[5 rows x 37 columns]"
      ]
     },
     "execution_count": 46,
     "metadata": {},
     "output_type": "execute_result"
    }
   ],
   "source": [
    "df = pd.read_csv('TSE_letgo.csv')\n",
    "df.head()"
   ]
  },
  {
   "cell_type": "code",
   "execution_count": 47,
   "metadata": {
    "collapsed": false
   },
   "outputs": [
    {
     "data": {
      "text/html": [
       "<div>\n",
       "<table border=\"1\" class=\"dataframe\">\n",
       "  <thead>\n",
       "    <tr style=\"text-align: right;\">\n",
       "      <th></th>\n",
       "      <th>Date</th>\n",
       "      <th>Open</th>\n",
       "      <th>High</th>\n",
       "      <th>Low</th>\n",
       "      <th>Close</th>\n",
       "      <th>Upper</th>\n",
       "      <th>Lower</th>\n",
       "      <th>RSI</th>\n",
       "      <th>TOYC</th>\n",
       "      <th>TOYCChange</th>\n",
       "      <th>...</th>\n",
       "      <th>Thigh</th>\n",
       "      <th>Tlow</th>\n",
       "      <th>Tclose</th>\n",
       "      <th>Tclosechange</th>\n",
       "      <th>TTOYC</th>\n",
       "      <th>TTOYCChange</th>\n",
       "      <th>TYCChange</th>\n",
       "      <th>Tvolume</th>\n",
       "      <th>Tmoney</th>\n",
       "      <th>PE</th>\n",
       "    </tr>\n",
       "  </thead>\n",
       "  <tbody>\n",
       "    <tr>\n",
       "      <th>0</th>\n",
       "      <td>2012/8/28</td>\n",
       "      <td>7440.56</td>\n",
       "      <td>7445.08</td>\n",
       "      <td>7359.83</td>\n",
       "      <td>7361.94</td>\n",
       "      <td>4.52</td>\n",
       "      <td>2.11</td>\n",
       "      <td>0.352353</td>\n",
       "      <td>-27.66</td>\n",
       "      <td>-0.003704</td>\n",
       "      <td>...</td>\n",
       "      <td>83.4</td>\n",
       "      <td>82.0</td>\n",
       "      <td>82.4</td>\n",
       "      <td>-0.007229</td>\n",
       "      <td>-0.7</td>\n",
       "      <td>-0.008434</td>\n",
       "      <td>0.012195</td>\n",
       "      <td>32429</td>\n",
       "      <td>2674091</td>\n",
       "      <td>16.25</td>\n",
       "    </tr>\n",
       "    <tr>\n",
       "      <th>1</th>\n",
       "      <td>2012/8/29</td>\n",
       "      <td>7379.48</td>\n",
       "      <td>7405.30</td>\n",
       "      <td>7368.40</td>\n",
       "      <td>7391.15</td>\n",
       "      <td>14.15</td>\n",
       "      <td>11.08</td>\n",
       "      <td>0.197637</td>\n",
       "      <td>17.54</td>\n",
       "      <td>0.002383</td>\n",
       "      <td>...</td>\n",
       "      <td>83.0</td>\n",
       "      <td>82.1</td>\n",
       "      <td>82.7</td>\n",
       "      <td>0.003641</td>\n",
       "      <td>0.2</td>\n",
       "      <td>0.002427</td>\n",
       "      <td>-0.007200</td>\n",
       "      <td>18468</td>\n",
       "      <td>1527787</td>\n",
       "      <td>15.60</td>\n",
       "    </tr>\n",
       "    <tr>\n",
       "      <th>2</th>\n",
       "      <td>2012/8/30</td>\n",
       "      <td>7372.06</td>\n",
       "      <td>7404.94</td>\n",
       "      <td>7360.10</td>\n",
       "      <td>7371.44</td>\n",
       "      <td>32.88</td>\n",
       "      <td>11.34</td>\n",
       "      <td>0.188303</td>\n",
       "      <td>-19.09</td>\n",
       "      <td>-0.002583</td>\n",
       "      <td>...</td>\n",
       "      <td>83.2</td>\n",
       "      <td>82.3</td>\n",
       "      <td>82.7</td>\n",
       "      <td>0.000000</td>\n",
       "      <td>-0.4</td>\n",
       "      <td>-0.004837</td>\n",
       "      <td>0.003600</td>\n",
       "      <td>46032</td>\n",
       "      <td>3815781</td>\n",
       "      <td>15.60</td>\n",
       "    </tr>\n",
       "    <tr>\n",
       "      <th>3</th>\n",
       "      <td>2012/8/31</td>\n",
       "      <td>7363.25</td>\n",
       "      <td>7406.52</td>\n",
       "      <td>7363.25</td>\n",
       "      <td>7397.06</td>\n",
       "      <td>9.46</td>\n",
       "      <td>0.00</td>\n",
       "      <td>0.251779</td>\n",
       "      <td>-8.19</td>\n",
       "      <td>-0.001111</td>\n",
       "      <td>...</td>\n",
       "      <td>83.3</td>\n",
       "      <td>82.4</td>\n",
       "      <td>83.3</td>\n",
       "      <td>0.007255</td>\n",
       "      <td>-0.3</td>\n",
       "      <td>-0.003628</td>\n",
       "      <td>0.000000</td>\n",
       "      <td>13536</td>\n",
       "      <td>1125345</td>\n",
       "      <td>15.72</td>\n",
       "    </tr>\n",
       "    <tr>\n",
       "      <th>4</th>\n",
       "      <td>2012/9/3</td>\n",
       "      <td>7430.40</td>\n",
       "      <td>7462.15</td>\n",
       "      <td>7389.68</td>\n",
       "      <td>7450.53</td>\n",
       "      <td>11.62</td>\n",
       "      <td>40.72</td>\n",
       "      <td>0.444581</td>\n",
       "      <td>33.34</td>\n",
       "      <td>0.004507</td>\n",
       "      <td>...</td>\n",
       "      <td>83.9</td>\n",
       "      <td>82.8</td>\n",
       "      <td>83.9</td>\n",
       "      <td>0.007203</td>\n",
       "      <td>0.2</td>\n",
       "      <td>0.002401</td>\n",
       "      <td>0.007300</td>\n",
       "      <td>20796</td>\n",
       "      <td>1738755</td>\n",
       "      <td>15.83</td>\n",
       "    </tr>\n",
       "  </tbody>\n",
       "</table>\n",
       "<p>5 rows × 37 columns</p>\n",
       "</div>"
      ],
      "text/plain": [
       "        Date     Open     High      Low    Close  Upper  Lower       RSI  \\\n",
       "0  2012/8/28  7440.56  7445.08  7359.83  7361.94   4.52   2.11  0.352353   \n",
       "1  2012/8/29  7379.48  7405.30  7368.40  7391.15  14.15  11.08  0.197637   \n",
       "2  2012/8/30  7372.06  7404.94  7360.10  7371.44  32.88  11.34  0.188303   \n",
       "3  2012/8/31  7363.25  7406.52  7363.25  7397.06   9.46   0.00  0.251779   \n",
       "4   2012/9/3  7430.40  7462.15  7389.68  7450.53  11.62  40.72  0.444581   \n",
       "\n",
       "    TOYC  TOYCChange  ...    Thigh  Tlow  Tclose  Tclosechange  TTOYC  \\\n",
       "0 -27.66   -0.003704  ...     83.4  82.0    82.4     -0.007229   -0.7   \n",
       "1  17.54    0.002383  ...     83.0  82.1    82.7      0.003641    0.2   \n",
       "2 -19.09   -0.002583  ...     83.2  82.3    82.7      0.000000   -0.4   \n",
       "3  -8.19   -0.001111  ...     83.3  82.4    83.3      0.007255   -0.3   \n",
       "4  33.34    0.004507  ...     83.9  82.8    83.9      0.007203    0.2   \n",
       "\n",
       "   TTOYCChange  TYCChange  Tvolume   Tmoney     PE  \n",
       "0    -0.008434   0.012195    32429  2674091  16.25  \n",
       "1     0.002427  -0.007200    18468  1527787  15.60  \n",
       "2    -0.004837   0.003600    46032  3815781  15.60  \n",
       "3    -0.003628   0.000000    13536  1125345  15.72  \n",
       "4     0.002401   0.007300    20796  1738755  15.83  \n",
       "\n",
       "[5 rows x 37 columns]"
      ]
     },
     "execution_count": 47,
     "metadata": {},
     "output_type": "execute_result"
    }
   ],
   "source": [
    "MACD = df.MACD[0:-1]\n",
    "OSC = df.OSC[0:-1]\n",
    "KD = df.K[0:-1] - df.D[0:-1]\n",
    "HL = df.Thigh[0:-1] - df.Tlow[0:-1]\n",
    "C = df.Close[0:-1]\n",
    "SMA = df.SMA5[0:-1] - df.SMA20[0:-1]\n",
    "MA = df.MA5[0:-1] - df.MA10[0:-1]\n",
    "UW = df.Upper[0:-1]\n",
    "LW = df.Lower[0:-1]\n",
    "RSI = df.RSI[0:-1]\n",
    "OBV = df.OBV[0:-1]\n",
    "VolumeChange = df.VolumeChange[0:-1]\n",
    "df = df.drop([0]) # since there are NaN in the first row\n",
    "df = df.reset_index(drop=True)\n",
    "df.head()"
   ]
  },
  {
   "cell_type": "code",
   "execution_count": 48,
   "metadata": {
    "collapsed": false
   },
   "outputs": [
    {
     "data": {
      "text/plain": [
       "(1352, 37)"
      ]
     },
     "execution_count": 48,
     "metadata": {},
     "output_type": "execute_result"
    }
   ],
   "source": [
    "df.shape"
   ]
  },
  {
   "cell_type": "markdown",
   "metadata": {},
   "source": [
    "### Input and Output Variables"
   ]
  },
  {
   "cell_type": "markdown",
   "metadata": {},
   "source": [
    "X: Selected technical indicators (Inputs)"
   ]
  },
  {
   "cell_type": "code",
   "execution_count": 49,
   "metadata": {
    "collapsed": false
   },
   "outputs": [
    {
     "data": {
      "text/plain": [
       "(1352, 7)"
      ]
     },
     "execution_count": 49,
     "metadata": {},
     "output_type": "execute_result"
    }
   ],
   "source": [
    "X = pd.concat([df.Open, df.TOYCChange, df.TTOYCChange, df.TYCChange, MA, KD, OSC], axis=1)\n",
    "X.shape"
   ]
  },
  {
   "cell_type": "code",
   "execution_count": 50,
   "metadata": {
    "collapsed": false,
    "scrolled": false
   },
   "outputs": [
    {
     "data": {
      "text/html": [
       "<div>\n",
       "<table border=\"1\" class=\"dataframe\">\n",
       "  <thead>\n",
       "    <tr style=\"text-align: right;\">\n",
       "      <th></th>\n",
       "      <th>Open</th>\n",
       "      <th>TOYCChange</th>\n",
       "      <th>TTOYCChange</th>\n",
       "      <th>TYCChange</th>\n",
       "      <th>0</th>\n",
       "      <th>1</th>\n",
       "      <th>OSC</th>\n",
       "    </tr>\n",
       "  </thead>\n",
       "  <tbody>\n",
       "    <tr>\n",
       "      <th>0</th>\n",
       "      <td>7440.56</td>\n",
       "      <td>-0.003704</td>\n",
       "      <td>-0.008434</td>\n",
       "      <td>0.012195</td>\n",
       "      <td>-19.38</td>\n",
       "      <td>-0.1113</td>\n",
       "      <td>3.94</td>\n",
       "    </tr>\n",
       "    <tr>\n",
       "      <th>1</th>\n",
       "      <td>7379.48</td>\n",
       "      <td>0.002383</td>\n",
       "      <td>0.002427</td>\n",
       "      <td>-0.007200</td>\n",
       "      <td>-21.61</td>\n",
       "      <td>-0.1989</td>\n",
       "      <td>-5.57</td>\n",
       "    </tr>\n",
       "    <tr>\n",
       "      <th>2</th>\n",
       "      <td>7372.06</td>\n",
       "      <td>-0.002583</td>\n",
       "      <td>-0.004837</td>\n",
       "      <td>0.003600</td>\n",
       "      <td>-8.58</td>\n",
       "      <td>-0.1789</td>\n",
       "      <td>-11.45</td>\n",
       "    </tr>\n",
       "    <tr>\n",
       "      <th>3</th>\n",
       "      <td>7363.25</td>\n",
       "      <td>-0.001111</td>\n",
       "      <td>-0.003628</td>\n",
       "      <td>0.000000</td>\n",
       "      <td>7.75</td>\n",
       "      <td>-0.1750</td>\n",
       "      <td>-15.93</td>\n",
       "    </tr>\n",
       "    <tr>\n",
       "      <th>4</th>\n",
       "      <td>7430.40</td>\n",
       "      <td>0.004507</td>\n",
       "      <td>0.002401</td>\n",
       "      <td>0.007300</td>\n",
       "      <td>-8.65</td>\n",
       "      <td>-0.1216</td>\n",
       "      <td>-17.59</td>\n",
       "    </tr>\n",
       "  </tbody>\n",
       "</table>\n",
       "</div>"
      ],
      "text/plain": [
       "      Open  TOYCChange  TTOYCChange  TYCChange      0       1    OSC\n",
       "0  7440.56   -0.003704    -0.008434   0.012195 -19.38 -0.1113   3.94\n",
       "1  7379.48    0.002383     0.002427  -0.007200 -21.61 -0.1989  -5.57\n",
       "2  7372.06   -0.002583    -0.004837   0.003600  -8.58 -0.1789 -11.45\n",
       "3  7363.25   -0.001111    -0.003628   0.000000   7.75 -0.1750 -15.93\n",
       "4  7430.40    0.004507     0.002401   0.007300  -8.65 -0.1216 -17.59"
      ]
     },
     "execution_count": 50,
     "metadata": {},
     "output_type": "execute_result"
    }
   ],
   "source": [
    "X.head()"
   ]
  },
  {
   "cell_type": "code",
   "execution_count": 51,
   "metadata": {
    "collapsed": false
   },
   "outputs": [
    {
     "data": {
      "text/plain": [
       "(1352, 7)"
      ]
     },
     "execution_count": 51,
     "metadata": {},
     "output_type": "execute_result"
    }
   ],
   "source": [
    "data1 = X.values\n",
    "data1.shape"
   ]
  },
  {
   "cell_type": "markdown",
   "metadata": {},
   "source": [
    "Y: Change of close price (Outputs)"
   ]
  },
  {
   "cell_type": "code",
   "execution_count": 52,
   "metadata": {
    "collapsed": false
   },
   "outputs": [
    {
     "data": {
      "text/plain": [
       "(1352, 1)"
      ]
     },
     "execution_count": 52,
     "metadata": {},
     "output_type": "execute_result"
    }
   ],
   "source": [
    "Y = df.CloseChange\n",
    "data2 = Y.values.reshape(-1, 1)\n",
    "data2.shape"
   ]
  },
  {
   "cell_type": "code",
   "execution_count": 53,
   "metadata": {
    "collapsed": false
   },
   "outputs": [
    {
     "data": {
      "text/plain": [
       "[<matplotlib.lines.Line2D at 0x7f4bc67b5780>]"
      ]
     },
     "execution_count": 53,
     "metadata": {},
     "output_type": "execute_result"
    },
    {
     "data": {
      "image/png": "[encoded data removed]",
      "text/plain": [
       "<matplotlib.figure.Figure at 0x7f4bc6845518>"
      ]
     },
     "metadata": {},
     "output_type": "display_data"
    }
   ],
   "source": [
    "plt.figure(figsize=(4, 3))\n",
    "plt.plot(Y.values, c='#046865')"
   ]
  },
  {
   "cell_type": "markdown",
   "metadata": {},
   "source": [
    "### Hyperparameter"
   ]
  },
  {
   "cell_type": "code",
   "execution_count": 54,
   "metadata": {
    "collapsed": true
   },
   "outputs": [],
   "source": [
    "learning_rate = 0.001\n",
    "#learning_rate = tf.train.exponential_decay(0.3, 1, 1, 0.99, staircase=True)\n",
    "total_epoch = 1000\n",
    "train_size = 0.6\n",
    "val_size = 0.2\n",
    "look_back = 6\n",
    "n_step = look_back\n",
    "n_input = X.shape[1]\n",
    "n_output = 1\n",
    "keep_prob = 0.8\n",
    "#n_hidden1 = 10\n",
    "#n_hidden2 = 20\n",
    "#n_hidden3 = 16\n",
    "n_hidden1 = n_step*n_input*2\n",
    "n_hidden2 = n_step*n_input*4\n",
    "beta = 0.01"
   ]
  },
  {
   "cell_type": "markdown",
   "metadata": {},
   "source": [
    "### Custom Function"
   ]
  },
  {
   "cell_type": "code",
   "execution_count": 55,
   "metadata": {
    "collapsed": true
   },
   "outputs": [],
   "source": [
    "def create_timeseries(data1, data2, look_back=1):\n",
    "    x_data = []\n",
    "    for i in range(len(data1)-look_back+1):\n",
    "        a = data1[i:(i+look_back), :]\n",
    "        x_data.append(a) \n",
    "    y_data = data2[look_back-1:]\n",
    "    return np.array(x_data), np.array(y_data)"
   ]
  },
  {
   "cell_type": "code",
   "execution_count": 56,
   "metadata": {
    "collapsed": true
   },
   "outputs": [],
   "source": [
    "def layer(input_dim, output_dim, inputs, activation=None):\n",
    "    w_init = tf.variance_scaling_initializer(mode='fan_avg', distribution='uniform', scale=0.12)\n",
    "    b_init = tf.constant_initializer(0.01)\n",
    "    w = tf.Variable(w_init([input_dim, output_dim]))\n",
    "    #w = tf.Variable(tf.truncated_normal([input_dim, output_dim], stddev=0.1) / np.sqrt(input_dim/2))\n",
    "    b = tf.Variable(b_init([output_dim]))\n",
    "    xwb = tf.add(tf.matmul(inputs, w), b)\n",
    "    if activation is None:\n",
    "        outputs = xwb\n",
    "    else:\n",
    "        outputs = activation(xwb)\n",
    "    return outputs"
   ]
  },
  {
   "cell_type": "code",
   "execution_count": 57,
   "metadata": {
    "collapsed": false
   },
   "outputs": [],
   "source": [
    "def train_test_split(x_data, y_data, train_size=train_size, val_size=val_size):\n",
    "    x_train = x_data[0:int(len(x_data)*train_size), :]\n",
    "    x_val = x_data[int(len(x_data)*train_size):int(len(x_data)*(train_size+val_size))]\n",
    "    x_test = x_data[int(len(x_data)*(train_size+val_size)):len(x_data), :] \n",
    "    y_train = y_data[0:int(len(y_data)*train_size), :]\n",
    "    y_val = y_data[int(len(y_data)*train_size):int(len(y_data)*(train_size+val_size))]\n",
    "    y_test = y_data[int(len(y_data)*(train_size+val_size)):len(y_data), :] \n",
    "    return x_train, x_val, x_test, y_train, y_val, y_test"
   ]
  },
  {
   "cell_type": "code",
   "execution_count": 58,
   "metadata": {
    "collapsed": true
   },
   "outputs": [],
   "source": [
    "def data_movement(pred, true):\n",
    "    move_pred = list(pred)\n",
    "    move_pred = np.array(move_pred)\n",
    "    move_pred[move_pred>0] = 1\n",
    "    move_pred[move_pred<0] = 0\n",
    "    move_true = list(true)\n",
    "    move_true = np.array(move_true)\n",
    "    move_true[move_true>0] = 1\n",
    "    move_true[move_true<0] = 0\n",
    "    acc = np.sum(move_pred == move_true) / len(move_pred) \n",
    "    return move_pred, move_true, acc"
   ]
  },
  {
   "cell_type": "markdown",
   "metadata": {},
   "source": [
    "### Training & Testing Sets"
   ]
  },
  {
   "cell_type": "code",
   "execution_count": 59,
   "metadata": {
    "collapsed": false
   },
   "outputs": [],
   "source": [
    "x_data, y_data = create_timeseries(data1, data2, look_back)"
   ]
  },
  {
   "cell_type": "code",
   "execution_count": 60,
   "metadata": {
    "collapsed": false
   },
   "outputs": [
    {
     "data": {
      "text/plain": [
       "((1347, 6, 7), (1347, 1))"
      ]
     },
     "execution_count": 60,
     "metadata": {},
     "output_type": "execute_result"
    }
   ],
   "source": [
    "x_data.shape, y_data.shape"
   ]
  },
  {
   "cell_type": "code",
   "execution_count": 61,
   "metadata": {
    "collapsed": false,
    "scrolled": false
   },
   "outputs": [
    {
     "data": {
      "text/plain": [
       "array([[[ 7.4405600e+03, -3.7036940e-03, -8.4337350e-03, ...,\n",
       "         -1.9380000e+01, -1.1130000e-01,  3.9400000e+00],\n",
       "        [ 7.3794800e+03,  2.3825240e-03,  2.4271840e-03, ...,\n",
       "         -2.1610000e+01, -1.9890000e-01, -5.5700000e+00],\n",
       "        [ 7.3720600e+03, -2.5828190e-03, -4.8367590e-03, ...,\n",
       "         -8.5800000e+00, -1.7890000e-01, -1.1450000e+01],\n",
       "        [ 7.3632500e+03, -1.1110450e-03, -3.6275700e-03, ...,\n",
       "          7.7500000e+00, -1.7500000e-01, -1.5930000e+01],\n",
       "        [ 7.4304000e+03,  4.5071960e-03,  2.4009600e-03, ...,\n",
       "         -8.6500000e+00, -1.2160000e-01, -1.7590000e+01],\n",
       "        [ 7.4713100e+03,  2.7890630e-03,  1.1918950e-03, ...,\n",
       "         -2.7500000e+00, -8.1000000e-03, -1.5240000e+01]],\n",
       "\n",
       "       [[ 7.3794800e+03,  2.3825240e-03,  2.4271840e-03, ...,\n",
       "         -2.1610000e+01, -1.9890000e-01, -5.5700000e+00],\n",
       "        [ 7.3720600e+03, -2.5828190e-03, -4.8367590e-03, ...,\n",
       "         -8.5800000e+00, -1.7890000e-01, -1.1450000e+01],\n",
       "        [ 7.3632500e+03, -1.1110450e-03, -3.6275700e-03, ...,\n",
       "          7.7500000e+00, -1.7500000e-01, -1.5930000e+01],\n",
       "        [ 7.4304000e+03,  4.5071960e-03,  2.4009600e-03, ...,\n",
       "         -8.6500000e+00, -1.2160000e-01, -1.7590000e+01],\n",
       "        [ 7.4713100e+03,  2.7890630e-03,  1.1918950e-03, ...,\n",
       "         -2.7500000e+00, -8.1000000e-03, -1.5240000e+01],\n",
       "        [ 7.4299300e+03, -2.8746470e-03, -1.1904762e-02, ...,\n",
       "          5.7000000e-01,  4.4300000e-02, -1.2380000e+01]],\n",
       "\n",
       "       [[ 7.3720600e+03, -2.5828190e-03, -4.8367590e-03, ...,\n",
       "         -8.5800000e+00, -1.7890000e-01, -1.1450000e+01],\n",
       "        [ 7.3632500e+03, -1.1110450e-03, -3.6275700e-03, ...,\n",
       "          7.7500000e+00, -1.7500000e-01, -1.5930000e+01],\n",
       "        [ 7.4304000e+03,  4.5071960e-03,  2.4009600e-03, ...,\n",
       "         -8.6500000e+00, -1.2160000e-01, -1.7590000e+01],\n",
       "        [ 7.4713100e+03,  2.7890630e-03,  1.1918950e-03, ...,\n",
       "         -2.7500000e+00, -8.1000000e-03, -1.5240000e+01],\n",
       "        [ 7.4299300e+03, -2.8746470e-03, -1.1904762e-02, ...,\n",
       "          5.7000000e-01,  4.4300000e-02, -1.2380000e+01],\n",
       "        [ 7.3830400e+03,  2.1174250e-03,  9.7560980e-03, ...,\n",
       "          1.4310000e+01, -5.1100000e-02, -1.5080000e+01]],\n",
       "\n",
       "       ...,\n",
       "\n",
       "       [[ 1.0559440e+04,  7.4870600e-04, -2.0833330e-03, ...,\n",
       "          8.2310000e+01, -1.0510000e-01, -8.0850000e+01],\n",
       "        [ 1.0371010e+04, -1.4960317e-02, -3.5639413e-02, ...,\n",
       "          1.2217000e+02, -8.1800000e-02, -8.8990000e+01],\n",
       "        [ 1.0429090e+04,  5.5284790e-03,  1.2903226e-02, ...,\n",
       "          1.7094000e+02, -7.6300000e-02, -1.0362000e+02],\n",
       "        [ 1.0559790e+04,  1.3309548e-02,  3.3826638e-02, ...,\n",
       "          1.5339000e+02, -5.4600000e-02, -1.0117000e+02],\n",
       "        [ 1.0698470e+04, -1.4905120e-03,  6.1855670e-03, ...,\n",
       "         -3.7360000e+01,  2.4800000e-02, -7.8820000e+01],\n",
       "        [ 1.0688970e+04,  2.4938150e-03,  6.2630480e-03, ...,\n",
       "         -1.2485000e+02,  5.2300000e-02, -6.1610000e+01]],\n",
       "\n",
       "       [[ 1.0371010e+04, -1.4960317e-02, -3.5639413e-02, ...,\n",
       "          1.2217000e+02, -8.1800000e-02, -8.8990000e+01],\n",
       "        [ 1.0429090e+04,  5.5284790e-03,  1.2903226e-02, ...,\n",
       "          1.7094000e+02, -7.6300000e-02, -1.0362000e+02],\n",
       "        [ 1.0559790e+04,  1.3309548e-02,  3.3826638e-02, ...,\n",
       "          1.5339000e+02, -5.4600000e-02, -1.0117000e+02],\n",
       "        [ 1.0698470e+04, -1.4905120e-03,  6.1855670e-03, ...,\n",
       "         -3.7360000e+01,  2.4800000e-02, -7.8820000e+01],\n",
       "        [ 1.0688970e+04,  2.4938150e-03,  6.2630480e-03, ...,\n",
       "         -1.2485000e+02,  5.2300000e-02, -6.1610000e+01],\n",
       "        [ 1.0827980e+04,  3.0969330e-03,  8.1632650e-03, ...,\n",
       "         -1.1765000e+02,  1.2190000e-01, -4.0450000e+01]],\n",
       "\n",
       "       [[ 1.0429090e+04,  5.5284790e-03,  1.2903226e-02, ...,\n",
       "          1.7094000e+02, -7.6300000e-02, -1.0362000e+02],\n",
       "        [ 1.0559790e+04,  1.3309548e-02,  3.3826638e-02, ...,\n",
       "          1.5339000e+02, -5.4600000e-02, -1.0117000e+02],\n",
       "        [ 1.0698470e+04, -1.4905120e-03,  6.1855670e-03, ...,\n",
       "         -3.7360000e+01,  2.4800000e-02, -7.8820000e+01],\n",
       "        [ 1.0688970e+04,  2.4938150e-03,  6.2630480e-03, ...,\n",
       "         -1.2485000e+02,  5.2300000e-02, -6.1610000e+01],\n",
       "        [ 1.0827980e+04,  3.0969330e-03,  8.1632650e-03, ...,\n",
       "         -1.1765000e+02,  1.2190000e-01, -4.0450000e+01],\n",
       "        [ 1.0896160e+04,  5.4869100e-03,  1.6227181e-02, ...,\n",
       "         -1.7836000e+02,  1.7210000e-01, -1.9710000e+01]]])"
      ]
     },
     "execution_count": 61,
     "metadata": {},
     "output_type": "execute_result"
    }
   ],
   "source": [
    "x_data"
   ]
  },
  {
   "cell_type": "code",
   "execution_count": 62,
   "metadata": {
    "collapsed": false
   },
   "outputs": [
    {
     "data": {
      "text/plain": [
       "array([[ 0.00011006],\n",
       "       [-0.01126105],\n",
       "       [-0.00552702],\n",
       "       ...,\n",
       "       [ 0.01239592],\n",
       "       [ 0.00390475],\n",
       "       [-0.00195908]])"
      ]
     },
     "execution_count": 62,
     "metadata": {},
     "output_type": "execute_result"
    }
   ],
   "source": [
    "y_data"
   ]
  },
  {
   "cell_type": "code",
   "execution_count": 63,
   "metadata": {
    "collapsed": false
   },
   "outputs": [],
   "source": [
    "x_train, x_val, x_test, y_train, y_val, y_test = train_test_split(x_data, y_data)"
   ]
  },
  {
   "cell_type": "code",
   "execution_count": 64,
   "metadata": {
    "collapsed": false
   },
   "outputs": [
    {
     "data": {
      "text/plain": [
       "((808, 6, 7), (808, 1), (269, 6, 7), (269, 1), (270, 6, 7), (270, 1))"
      ]
     },
     "execution_count": 64,
     "metadata": {},
     "output_type": "execute_result"
    }
   ],
   "source": [
    "x_train.shape, y_train.shape, x_val.shape, y_val.shape, x_test.shape, y_test.shape"
   ]
  },
  {
   "cell_type": "code",
   "execution_count": 65,
   "metadata": {
    "collapsed": false
   },
   "outputs": [],
   "source": [
    "x_train = x_train.reshape(-1, n_step*n_input)\n",
    "x_val = x_val.reshape(-1, n_step*n_input)\n",
    "x_test = x_test.reshape(-1, n_step*n_input)"
   ]
  },
  {
   "cell_type": "code",
   "execution_count": 66,
   "metadata": {
    "collapsed": false
   },
   "outputs": [
    {
     "data": {
      "text/plain": [
       "((808, 42), (808, 1), (269, 42), (269, 1), (270, 42), (270, 1))"
      ]
     },
     "execution_count": 66,
     "metadata": {},
     "output_type": "execute_result"
    }
   ],
   "source": [
    "x_train.shape, y_train.shape, x_val.shape, y_val.shape, x_test.shape, y_test.shape"
   ]
  },
  {
   "cell_type": "markdown",
   "metadata": {},
   "source": [
    "### Normalization"
   ]
  },
  {
   "cell_type": "code",
   "execution_count": 67,
   "metadata": {
    "collapsed": false
   },
   "outputs": [],
   "source": [
    "scaler = MinMaxScaler(feature_range=(0, 1)).fit(x_train)\n",
    "x_train = scaler.transform(x_train)\n",
    "x_val = scaler.transform(x_val)\n",
    "x_test = scaler.transform(x_test)"
   ]
  },
  {
   "cell_type": "markdown",
   "metadata": {},
   "source": [
    "### Input Layer"
   ]
  },
  {
   "cell_type": "code",
   "execution_count": 68,
   "metadata": {
    "collapsed": true
   },
   "outputs": [],
   "source": [
    "x = tf.placeholder('float', [None, n_step*n_input])"
   ]
  },
  {
   "cell_type": "code",
   "execution_count": 69,
   "metadata": {
    "collapsed": false
   },
   "outputs": [
    {
     "data": {
      "text/plain": [
       "<tf.Tensor 'Placeholder_2:0' shape=(?, 42) dtype=float32>"
      ]
     },
     "execution_count": 69,
     "metadata": {},
     "output_type": "execute_result"
    }
   ],
   "source": [
    "x"
   ]
  },
  {
   "cell_type": "markdown",
   "metadata": {},
   "source": [
    "### Hidden Layer"
   ]
  },
  {
   "cell_type": "code",
   "execution_count": 70,
   "metadata": {
    "collapsed": false
   },
   "outputs": [],
   "source": [
    "h1 = layer(n_step*n_input, n_hidden1, x, tf.nn.tanh)\n",
    "#h1 = tf.nn.dropout(h1, keep_prob=keep_prob)"
   ]
  },
  {
   "cell_type": "code",
   "execution_count": 71,
   "metadata": {
    "collapsed": false
   },
   "outputs": [
    {
     "data": {
      "text/plain": [
       "<tf.Tensor 'Tanh_2:0' shape=(?, 84) dtype=float32>"
      ]
     },
     "execution_count": 71,
     "metadata": {},
     "output_type": "execute_result"
    }
   ],
   "source": [
    "h1"
   ]
  },
  {
   "cell_type": "code",
   "execution_count": 72,
   "metadata": {
    "collapsed": true
   },
   "outputs": [],
   "source": [
    "h2 = layer(n_hidden1, n_hidden2, h1, tf.nn.tanh)\n",
    "#h2 = tf.nn.dropout(h2, keep_prob=keep_prob)"
   ]
  },
  {
   "cell_type": "code",
   "execution_count": 73,
   "metadata": {
    "collapsed": false
   },
   "outputs": [
    {
     "data": {
      "text/plain": [
       "<tf.Tensor 'Tanh_3:0' shape=(?, 168) dtype=float32>"
      ]
     },
     "execution_count": 73,
     "metadata": {},
     "output_type": "execute_result"
    }
   ],
   "source": [
    "h2"
   ]
  },
  {
   "cell_type": "code",
   "execution_count": 74,
   "metadata": {
    "collapsed": true
   },
   "outputs": [],
   "source": [
    "#h3 = layer(n_hidden2, n_hidden3, h2, tf.nn.relu)\n",
    "#h3 = tf.nn.dropout(h3, keep_prob=keep_prob)"
   ]
  },
  {
   "cell_type": "code",
   "execution_count": 75,
   "metadata": {
    "collapsed": false
   },
   "outputs": [],
   "source": [
    "#h3"
   ]
  },
  {
   "cell_type": "markdown",
   "metadata": {},
   "source": [
    "### Output Layer"
   ]
  },
  {
   "cell_type": "code",
   "execution_count": 76,
   "metadata": {
    "collapsed": false
   },
   "outputs": [],
   "source": [
    "#y_pred = layer(n_hidden1, n_output, h1, tf.nn.tanh)\n",
    "y_pred = layer(n_hidden2, n_output, h2)\n",
    "#y_pred = layer(n_hidden3, n_output, h3)"
   ]
  },
  {
   "cell_type": "code",
   "execution_count": 77,
   "metadata": {
    "collapsed": false
   },
   "outputs": [
    {
     "data": {
      "text/plain": [
       "<tf.Tensor 'Add_5:0' shape=(?, 1) dtype=float32>"
      ]
     },
     "execution_count": 77,
     "metadata": {},
     "output_type": "execute_result"
    }
   ],
   "source": [
    "y_pred"
   ]
  },
  {
   "cell_type": "markdown",
   "metadata": {},
   "source": [
    "### Modeling"
   ]
  },
  {
   "cell_type": "code",
   "execution_count": 78,
   "metadata": {
    "collapsed": false
   },
   "outputs": [],
   "source": [
    "y = tf.placeholder('float', [None, n_output])\n",
    "#loss_function = tf.reduce_mean(tf.abs(y_pred-y))\n",
    "loss_function = tf.reduce_mean(tf.squared_difference(y_pred, y))\n",
    "#optimizer = tf.train.RMSPropOptimizer(learning_rate=learning_rate, momentum=0.0, epsilon=1e-10).minimize(loss_function)\n",
    "#optimizer = tf.train.GradientDescentOptimizer(learning_rate).minimize(loss_function)\n",
    "w_init = tf.variance_scaling_initializer(mode='fan_avg', distribution='uniform', scale=0.12)\n",
    "w = tf.Variable(w_init([n_input, n_output]))\n",
    "regularizer = tf.nn.l2_loss(w)\n",
    "loss_function = tf.reduce_mean(loss_function + beta*regularizer)\n",
    "optimizer = tf.train.AdamOptimizer(learning_rate=learning_rate, epsilon=1e-08).minimize(loss_function)"
   ]
  },
  {
   "cell_type": "markdown",
   "metadata": {},
   "source": [
    "### Training"
   ]
  },
  {
   "cell_type": "code",
   "execution_count": 79,
   "metadata": {
    "collapsed": false
   },
   "outputs": [],
   "source": [
    "batch_size = 130\n",
    "total_batch = int(len(y_train)//batch_size)"
   ]
  },
  {
   "cell_type": "code",
   "execution_count": 80,
   "metadata": {
    "collapsed": true
   },
   "outputs": [],
   "source": [
    "sess = tf.Session()\n",
    "sess.run(tf.global_variables_initializer())\n",
    "train_epoch = []; train_loss = []; val_loss=[]; test_loss = []; train_acc = []; val_acc = []; test_acc = [];"
   ]
  },
  {
   "cell_type": "code",
   "execution_count": 81,
   "metadata": {
    "collapsed": false,
    "scrolled": false
   },
   "outputs": [],
   "source": [
    "start = time()\n",
    "\n",
    "for epoch in range(total_epoch):\n",
    "    shuffle = np.random.permutation(len(y_train))\n",
    "    x_train = x_train[shuffle]\n",
    "    y_train = y_train[shuffle]\n",
    "    for i in range(total_batch):\n",
    "        k = i * batch_size\n",
    "        batch_x = x_train[k : k+batch_size]\n",
    "        batch_y = y_train[k : k+batch_size]\n",
    "        sess.run(optimizer, feed_dict={x: batch_x, y: batch_y})\n",
    "    \n",
    "    #sess.run(optimizer, feed_dict={x: x_train, y: y_train})\n",
    "    loss1 = sess.run(loss_function, feed_dict={x: x_train, y: y_train})\n",
    "    loss2 = sess.run(loss_function, feed_dict={x: x_val, y: y_val})\n",
    "    loss3 = sess.run(loss_function, feed_dict={x: x_test, y: y_test})\n",
    "    train_epoch.append(epoch); train_loss.append(loss1); val_loss.append(loss2); test_loss.append(loss3);\n",
    "    \n",
    "    train_pred = sess.run(y_pred, feed_dict={x: x_train})\n",
    "    val_pred = sess.run(y_pred, feed_dict={x: x_val})\n",
    "    test_pred = sess.run(y_pred, feed_dict={x: x_test})\n",
    "    #train_pred = scaler.inverse_transform(train_pred)\n",
    "    #val_pred = scaler.inverse_transform(val_pred)\n",
    "    #test_pred = scaler.inverse_transform(test_pred)\n",
    "    train_pred = train_pred.reshape(-1, 1)\n",
    "    val_pred = val_pred.reshape(-1, 1)\n",
    "    test_pred = test_pred.reshape(-1, 1)\n",
    "    pred_result = np.concatenate((train_pred, val_pred, test_pred), axis=0)\n",
    "    true_result = np.concatenate((y_train, y_val, y_test), axis=0)\n",
    "    \n",
    "    move_pred_train, move_true_train, acc1 = data_movement(train_pred, y_train)\n",
    "    move_pred_val, move_true_val, acc2 = data_movement(val_pred, y_val)\n",
    "    move_pred_test, move_true_test, acc3 = data_movement(test_pred, y_test)\n",
    "    train_acc.append(acc1); val_acc.append(acc2); test_acc.append(acc3);"
   ]
  },
  {
   "cell_type": "code",
   "execution_count": 82,
   "metadata": {
    "collapsed": false,
    "scrolled": true
   },
   "outputs": [
    {
     "name": "stdout",
     "output_type": "stream",
     "text": [
      "\n",
      "-------------------------\n",
      "\n",
      "Train Acc= 0.7252475247524752\n",
      "Val Acc= 0.6431226765799256\n",
      "Test Acc= 0.7444444444444445\n",
      "Train Loss= 4.0537314e-05\n",
      "Val Loss= 4.6422665e-05\n",
      "Test Loss= 2.3128232e-05\n",
      "Today Prediction= [1.]\n",
      "Run Time= 23.23183846473694\n"
     ]
    },
    {
     "data": {
      "image/png": "[encoded data removed]",
      "text/plain": [
       "<matplotlib.figure.Figure at 0x7f4bc9a0c240>"
      ]
     },
     "metadata": {},
     "output_type": "display_data"
    }
   ],
   "source": [
    "plt.plot(true_result[:, 0], c='#046865', label='true')\n",
    "plt.plot(pred_result[:, 0], c='#21A0A0', label='predicted')\n",
    "plt.xlabel('epoch')\n",
    "plt.ylabel('change of close')\n",
    "plt.legend(loc='lower right', prop={'size': 10})\n",
    "\n",
    "#print ('Pred Result=\\n', train_pred)\n",
    "#print ('True Result=\\n', y_train)\n",
    "#print ('Move Pred=', move_pred_train[:, 0])\n",
    "#print ('Move True=', move_true_train[:, 0])\n",
    "print ('\\n-------------------------\\n')\n",
    "print ('Train Acc=', train_acc[-1])\n",
    "print ('Val Acc=', val_acc[-1])\n",
    "print ('Test Acc=', test_acc[-1])\n",
    "print ('Train Loss=', train_loss[-1])\n",
    "print ('Val Loss=', val_loss[-1])\n",
    "print ('Test Loss=', test_loss[-1])\n",
    "print ('Today Prediction=', move_pred_test[-1])\n",
    "\n",
    "end = time()\n",
    "print ('Run Time=', end-start)\n",
    "\n",
    "sess.close()"
   ]
  },
  {
   "cell_type": "code",
   "execution_count": 83,
   "metadata": {
    "collapsed": false
   },
   "outputs": [
    {
     "data": {
      "text/plain": [
       "((808, 1), (808, 1), (269, 1), (269, 1), (270, 1), (270, 1))"
      ]
     },
     "execution_count": 83,
     "metadata": {},
     "output_type": "execute_result"
    }
   ],
   "source": [
    "move_pred_train.shape, move_true_train.shape, move_pred_val.shape, move_true_val.shape, move_pred_test.shape, move_true_test.shape"
   ]
  },
  {
   "cell_type": "markdown",
   "metadata": {},
   "source": [
    "### Loss & Accuracy"
   ]
  },
  {
   "cell_type": "code",
   "execution_count": 84,
   "metadata": {
    "collapsed": false
   },
   "outputs": [
    {
     "data": {
      "text/plain": [
       "<matplotlib.legend.Legend at 0x7f4bc64d1c88>"
      ]
     },
     "execution_count": 84,
     "metadata": {},
     "output_type": "execute_result"
    },
    {
     "data": {
      "image/png": "[encoded data removed]",
      "text/plain": [
       "<matplotlib.figure.Figure at 0x7f4bc99e1e80>"
      ]
     },
     "metadata": {},
     "output_type": "display_data"
    }
   ],
   "source": [
    "%matplotlib inline\n",
    "gcf = plt.gcf()\n",
    "gcf.set_size_inches(4, 3)\n",
    "plt.plot(train_epoch, train_loss, c='#0050BA', label='training loss')\n",
    "plt.plot(train_epoch, val_loss, c='#375EBA', label='validation acc')\n",
    "plt.plot(train_epoch, test_loss, c='#0090FF', label='testing loss')\n",
    "plt.xlabel('epoch')\n",
    "plt.ylabel('loss')\n",
    "plt.legend(loc='upper right', prop={'size': 10})"
   ]
  },
  {
   "cell_type": "code",
   "execution_count": 85,
   "metadata": {
    "collapsed": false
   },
   "outputs": [
    {
     "data": {
      "text/plain": [
       "<matplotlib.legend.Legend at 0x7f4bc6570978>"
      ]
     },
     "execution_count": 85,
     "metadata": {},
     "output_type": "execute_result"
    },
    {
     "data": {
      "image/png": "[encoded data removed]",
      "text/plain": [
       "<matplotlib.figure.Figure at 0x7f4bc6527908>"
      ]
     },
     "metadata": {},
     "output_type": "display_data"
    }
   ],
   "source": [
    "%matplotlib inline\n",
    "gcf = plt.gcf()\n",
    "gcf.set_size_inches(4, 3)\n",
    "plt.plot(train_epoch, train_acc, c='#0050BA', label='training acc')\n",
    "plt.plot(train_epoch, val_acc, c='#375EBA', label='validation acc')\n",
    "plt.plot(train_epoch, test_acc, c='#0090FF', label='testing acc')\n",
    "plt.xlabel('epoch')\n",
    "plt.ylabel('accuracy')\n",
    "plt.legend(loc='lower right', prop={'size': 10})"
   ]
  },
  {
   "cell_type": "markdown",
   "metadata": {},
   "source": [
    "Accuracy should be at least greater than the following:"
   ]
  },
  {
   "cell_type": "code",
   "execution_count": 86,
   "metadata": {
    "collapsed": false
   },
   "outputs": [
    {
     "data": {
      "text/plain": [
       "0.525990099009901"
      ]
     },
     "execution_count": 86,
     "metadata": {},
     "output_type": "execute_result"
    }
   ],
   "source": [
    "len(move_true_train[move_true_train>0]) / len(move_true_train)"
   ]
  },
  {
   "cell_type": "code",
   "execution_count": 87,
   "metadata": {
    "collapsed": false
   },
   "outputs": [
    {
     "data": {
      "text/plain": [
       "0.5762081784386617"
      ]
     },
     "execution_count": 87,
     "metadata": {},
     "output_type": "execute_result"
    }
   ],
   "source": [
    "len(move_true_val[move_true_val>0]) / len(move_true_val)"
   ]
  },
  {
   "cell_type": "code",
   "execution_count": 88,
   "metadata": {
    "collapsed": false
   },
   "outputs": [
    {
     "data": {
      "text/plain": [
       "0.5740740740740741"
      ]
     },
     "execution_count": 88,
     "metadata": {},
     "output_type": "execute_result"
    }
   ],
   "source": [
    "len(move_true_test[move_true_test>0]) / len(move_true_test)"
   ]
  }
 ],
 "metadata": {
  "anaconda-cloud": {},
  "kernelspec": {
   "display_name": "Python [default]",
   "language": "python",
   "name": "python3"
  },
  "language_info": {
   "codemirror_mode": {
    "name": "ipython",
    "version": 3
   },
   "file_extension": ".py",
   "mimetype": "text/x-python",
   "name": "python",
   "nbconvert_exporter": "python",
   "pygments_lexer": "ipython3",
   "version": "3.5.2"
  }
 },
 "nbformat": 4,
 "nbformat_minor": 1
}
